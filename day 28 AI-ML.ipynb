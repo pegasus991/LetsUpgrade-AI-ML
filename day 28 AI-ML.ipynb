{
 "cells": [
  {
   "cell_type": "markdown",
   "metadata": {},
   "source": [
    "## Q1."
   ]
  },
  {
   "cell_type": "code",
   "execution_count": 6,
   "metadata": {},
   "outputs": [
    {
     "name": "stdout",
     "output_type": "stream",
     "text": [
      "Confusion matrix : \n",
      " [[3 1]\n",
      " [3 3]]\n",
      "Outcome values : \n",
      " 3 1 3 3\n",
      "Classification report : \n",
      " [[3 1]\n",
      " [3 3]]\n"
     ]
    }
   ],
   "source": [
    "from sklearn.metrics import confusion_matrix\n",
    "from sklearn.metrics import classification_report\n",
    "#actual values\n",
    "actual=[1,0,0,1,0,0,1,0,0,1]\n",
    "#predicted values\n",
    "predicted=[1,1,1,0,0,1,1,0,0,1]\n",
    "\n",
    "matrix=confusion_matrix(actual,predicted,labels=[1,0])\n",
    "print('Confusion matrix : \\n',matrix)\n",
    "\n",
    "#outcome values order in sklearn\n",
    "tp,fn,fp,tn=confusion_matrix(actual,predicted,labels=[1,0]).reshape(-1)\n",
    "print('Outcome values : \\n',tp,fn,fp,tn)\n",
    "\n",
    "#classification report\n",
    "matrix=confusion_matrix(actual,predicted,labels=[1,0])\n",
    "print('Classification report : \\n',matrix)"
   ]
  },
  {
   "cell_type": "markdown",
   "metadata": {},
   "source": [
    "## Q2."
   ]
  },
  {
   "cell_type": "code",
   "execution_count": 11,
   "metadata": {},
   "outputs": [
    {
     "name": "stdout",
     "output_type": "stream",
     "text": [
      "recall: 0.84\n",
      "precision: 0.70\n",
      "f1_score: 0.76\n"
     ]
    }
   ],
   "source": [
    "tp,fn,fp,tn=42,8,18,32\n",
    "\n",
    "#Recall\n",
    "recall = tp/(tp+fn)\n",
    "print(\"recall: {0:0.2f}\".format(recall))\n",
    "\n",
    "#Precision\n",
    "precision = tp/(tp+fp)\n",
    "print(\"precision: {0:0.2f}\".format(precision))\n",
    "\n",
    "#f1 score\n",
    "f1_score=2*precision*recall/(precision+recall)\n",
    "print(\"f1_score: {0:.2f}\".format(f1_score))"
   ]
  },
  {
   "cell_type": "code",
   "execution_count": null,
   "metadata": {},
   "outputs": [],
   "source": []
  }
 ],
 "metadata": {
  "kernelspec": {
   "display_name": "Python 3",
   "language": "python",
   "name": "python3"
  },
  "language_info": {
   "codemirror_mode": {
    "name": "ipython",
    "version": 3
   },
   "file_extension": ".py",
   "mimetype": "text/x-python",
   "name": "python",
   "nbconvert_exporter": "python",
   "pygments_lexer": "ipython3",
   "version": "3.8.3"
  }
 },
 "nbformat": 4,
 "nbformat_minor": 4
}
