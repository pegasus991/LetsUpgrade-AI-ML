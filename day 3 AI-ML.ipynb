{
 "cells": [
  {
   "cell_type": "code",
   "execution_count": 1,
   "metadata": {},
   "outputs": [
    {
     "name": "stdout",
     "output_type": "stream",
     "text": [
      "(1+1j)\n"
     ]
    }
   ],
   "source": [
    "a = 2+3j\n",
    "b = 1+2j\n",
    "print(a-b)"
   ]
  },
  {
   "cell_type": "code",
   "execution_count": 2,
   "metadata": {},
   "outputs": [
    {
     "name": "stdout",
     "output_type": "stream",
     "text": [
      "2.0\n"
     ]
    }
   ],
   "source": [
    "a = 16\n",
    "print(a**(1/4))"
   ]
  },
  {
   "cell_type": "markdown",
   "metadata": {},
   "source": [
    "## swapping two numbers with the help of third variable"
   ]
  },
  {
   "cell_type": "code",
   "execution_count": 5,
   "metadata": {},
   "outputs": [
    {
     "name": "stdout",
     "output_type": "stream",
     "text": [
      "x = 4\n",
      "y = 2\n"
     ]
    }
   ],
   "source": [
    "x = 2\n",
    "y = 4\n",
    "temp = x\n",
    "x = y\n",
    "y = temp\n",
    "print(\"x =\",x)\n",
    "print(\"y =\",y)"
   ]
  },
  {
   "cell_type": "markdown",
   "metadata": {},
   "source": [
    "## swapping two numbers without the help of third variable"
   ]
  },
  {
   "cell_type": "code",
   "execution_count": 6,
   "metadata": {},
   "outputs": [
    {
     "name": "stdout",
     "output_type": "stream",
     "text": [
      "x = 4\n",
      "y = 3\n"
     ]
    }
   ],
   "source": [
    "x = 3\n",
    "y = 4\n",
    "x,y = y,x\n",
    "print(\"x =\",x)\n",
    "print(\"y =\",y)"
   ]
  },
  {
   "cell_type": "markdown",
   "metadata": {},
   "source": [
    "## Fahrenheit to celsius and kelvin"
   ]
  },
  {
   "cell_type": "code",
   "execution_count": 10,
   "metadata": {},
   "outputs": [
    {
     "name": "stdout",
     "output_type": "stream",
     "text": [
      "celsius = 37.5\n",
      "kelvin = 311.0\n"
     ]
    }
   ],
   "source": [
    "# Fahrenheit to celsius\n",
    "fahrenheit = 99.5\n",
    "celsius = (fahrenheit - 32)/1.8\n",
    "print(\"celsius =\",celsius)\n",
    "\n",
    "# Fahrenheit to kelvin\n",
    "fahrenheit = 99.5\n",
    "kelvin = 273.5 + ((fahrenheit - 32)*(5.0/9.0))\n",
    "print(\"kelvin =\",kelvin)"
   ]
  },
  {
   "cell_type": "markdown",
   "metadata": {},
   "source": [
    "## displaying all the data types"
   ]
  },
  {
   "cell_type": "code",
   "execution_count": 11,
   "metadata": {},
   "outputs": [
    {
     "name": "stdout",
     "output_type": "stream",
     "text": [
      "<class 'int'>\n",
      "<class 'float'>\n",
      "<class 'str'>\n",
      "<class 'bool'>\n"
     ]
    }
   ],
   "source": [
    "a = 4\n",
    "b = 3.0\n",
    "c = \"lets upgrade is awesome\"\n",
    "d = True\n",
    "print(type(a))\n",
    "print(type(b))\n",
    "print(type(c))\n",
    "print(type(d))"
   ]
  },
  {
   "cell_type": "code",
   "execution_count": null,
   "metadata": {},
   "outputs": [],
   "source": []
  }
 ],
 "metadata": {
  "kernelspec": {
   "display_name": "Python 3",
   "language": "python",
   "name": "python3"
  },
  "language_info": {
   "codemirror_mode": {
    "name": "ipython",
    "version": 3
   },
   "file_extension": ".py",
   "mimetype": "text/x-python",
   "name": "python",
   "nbconvert_exporter": "python",
   "pygments_lexer": "ipython3",
   "version": "3.7.6"
  }
 },
 "nbformat": 4,
 "nbformat_minor": 4
}
