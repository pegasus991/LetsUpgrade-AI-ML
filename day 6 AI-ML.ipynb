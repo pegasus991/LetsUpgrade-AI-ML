{
 "cells": [
  {
   "cell_type": "markdown",
   "metadata": {},
   "source": [
    "## Q1."
   ]
  },
  {
   "cell_type": "code",
   "execution_count": 5,
   "metadata": {},
   "outputs": [
    {
     "name": "stdout",
     "output_type": "stream",
     "text": [
      "john@google.com\n",
      "google\n"
     ]
    }
   ],
   "source": [
    "s = input()\n",
    "l = \"\"\n",
    "a = s.find('@')\n",
    "b = s.find('.',a+1)\n",
    "for i in range(a+1,b):\n",
    "    l += s[i]\n",
    "print(l)"
   ]
  },
  {
   "cell_type": "markdown",
   "metadata": {},
   "source": [
    "## Q2.\n"
   ]
  },
  {
   "cell_type": "code",
   "execution_count": 3,
   "metadata": {},
   "outputs": [
    {
     "name": "stdout",
     "output_type": "stream",
     "text": [
      "without,hello,bag,world\n",
      "bag,hello,without,world\n"
     ]
    }
   ],
   "source": [
    "a = input()\n",
    "l = [i for i in a.split(',')]\n",
    "print(\",\".join(sorted(l)))"
   ]
  },
  {
   "cell_type": "markdown",
   "metadata": {},
   "source": [
    "## Q3."
   ]
  },
  {
   "cell_type": "code",
   "execution_count": 22,
   "metadata": {},
   "outputs": [
    {
     "name": "stdout",
     "output_type": "stream",
     "text": [
      "{'cherry', 'apple', 'banana'}\n",
      "True\n",
      "{'cherry', 'apple', 'banana', 'mango'}\n",
      "{'orange', 'strawberry', 'mango', 'guava', 'cherry', 'apple', 'banana'}\n",
      "7\n",
      "{'orange', 'strawberry', 'mango', 'cherry', 'apple', 'banana'}\n",
      "set()\n",
      "{1, 2, 3, 4, 5, 6}\n",
      "{1, 2, 3, 4, 5}\n"
     ]
    }
   ],
   "source": [
    "new_set = {\"apple\" , \"banana\" , \"cherry\"}\n",
    "print(new_set)\n",
    "\n",
    "print(\"apple\" in new_set)\n",
    "\n",
    "new_set.add(\"mango\")\n",
    "print(new_set)\n",
    "\n",
    "new_set.update([\"orange\" , \"strawberry\" , \"guava\"])\n",
    "print(new_set)\n",
    "\n",
    "print(len(new_set))\n",
    "\n",
    "new_set.remove(\"guava\")\n",
    "print(new_set)\n",
    "\n",
    "new_set.clear()\n",
    "print(new_set)\n",
    "\n",
    "del new_set #deletes the set completely\n",
    "\n",
    "set1 = {1,2,3}\n",
    "set2 = {4,5,6}\n",
    "b = set1.union(set2)\n",
    "print(b)\n",
    "\n",
    "a = [1,2,2,3,4,4,5]\n",
    "print(set(a))"
   ]
  },
  {
   "cell_type": "markdown",
   "metadata": {},
   "source": [
    "## Q4."
   ]
  },
  {
   "cell_type": "code",
   "execution_count": 1,
   "metadata": {},
   "outputs": [
    {
     "name": "stdout",
     "output_type": "stream",
     "text": [
      "1 2 3 4 6\n",
      "5\n"
     ]
    }
   ],
   "source": [
    "def find_missing_number(a,n):\n",
    "    total = (n+1)*(n+2)//2\n",
    "    current_total = sum(a)\n",
    "    return total - current_total\n",
    "\n",
    "a = list(map(int , input().split()))\n",
    "print(find_missing_number(a,len(a)))"
   ]
  },
  {
   "cell_type": "markdown",
   "metadata": {},
   "source": [
    "## Q5."
   ]
  },
  {
   "cell_type": "code",
   "execution_count": 53,
   "metadata": {},
   "outputs": [
    {
     "name": "stdout",
     "output_type": "stream",
     "text": [
      "12 24 35 24 88 120 155 88 120 155\n",
      "12 24 35 88 120 155\n"
     ]
    }
   ],
   "source": [
    "a = list(map(int , input().split()))\n",
    "b = []\n",
    "for i in a:\n",
    "    if i not in b:\n",
    "        b.append(i)\n",
    "print(*b)"
   ]
  },
  {
   "cell_type": "code",
   "execution_count": null,
   "metadata": {},
   "outputs": [],
   "source": []
  }
 ],
 "metadata": {
  "kernelspec": {
   "display_name": "Python 3",
   "language": "python",
   "name": "python3"
  },
  "language_info": {
   "codemirror_mode": {
    "name": "ipython",
    "version": 3
   },
   "file_extension": ".py",
   "mimetype": "text/x-python",
   "name": "python",
   "nbconvert_exporter": "python",
   "pygments_lexer": "ipython3",
   "version": "3.7.6"
  }
 },
 "nbformat": 4,
 "nbformat_minor": 4
}
