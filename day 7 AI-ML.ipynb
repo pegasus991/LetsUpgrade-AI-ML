{
 "cells": [
  {
   "cell_type": "markdown",
   "metadata": {},
   "source": [
    "## Q1."
   ]
  },
  {
   "cell_type": "code",
   "execution_count": 28,
   "metadata": {},
   "outputs": [],
   "source": [
    "f = open(\"t1.txt\" , 'r')\n",
    "f1 = open(\"t2.txt\" , 'w')\n",
    "for line in f:\n",
    "    f1.write(line)\n",
    "f.close()\n",
    "f1.close()"
   ]
  },
  {
   "cell_type": "markdown",
   "metadata": {},
   "source": [
    "## Q2."
   ]
  },
  {
   "cell_type": "code",
   "execution_count": 23,
   "metadata": {},
   "outputs": [
    {
     "name": "stdout",
     "output_type": "stream",
     "text": [
      "The minimum value is :  467\n",
      "The maximum value is :  654\n"
     ]
    }
   ],
   "source": [
    "new_dict = {\"x\":500 , \"y\":467 , \"z\":654 , \"a\":475}\n",
    "l = [i for i in new_dict.values()]\n",
    "l.sort()\n",
    "print(\"The minimum value is : \",l[0])\n",
    "print(\"The maximum value is : \",l[len(l)-1])"
   ]
  },
  {
   "cell_type": "code",
   "execution_count": null,
   "metadata": {},
   "outputs": [],
   "source": []
  }
 ],
 "metadata": {
  "kernelspec": {
   "display_name": "Python 3",
   "language": "python",
   "name": "python3"
  },
  "language_info": {
   "codemirror_mode": {
    "name": "ipython",
    "version": 3
   },
   "file_extension": ".py",
   "mimetype": "text/x-python",
   "name": "python",
   "nbconvert_exporter": "python",
   "pygments_lexer": "ipython3",
   "version": "3.7.6"
  }
 },
 "nbformat": 4,
 "nbformat_minor": 4
}
